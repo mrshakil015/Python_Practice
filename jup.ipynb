{
 "cells": [
  {
   "cell_type": "code",
   "execution_count": 2,
   "metadata": {},
   "outputs": [],
   "source": [
    "import numpy as np\n",
    "import pandas as pd"
   ]
  },
  {
   "cell_type": "code",
   "execution_count": 3,
   "metadata": {},
   "outputs": [],
   "source": [
    "student_dict = {\n",
    "    \"Name\":['Shakil','Ridoy','Shaiful','Banna'],\n",
    "    \"ID\":[15,11,14,13],\n",
    "    \"Address\":['Hemayetpur','Kollanpur','Savar','Mirpur'],\n",
    "    \"Age\":[23,24,26,25]\n",
    "}"
   ]
  },
  {
   "cell_type": "code",
   "execution_count": 4,
   "metadata": {},
   "outputs": [],
   "source": [
    "students_tab = pd.DataFrame(student_dict)"
   ]
  },
  {
   "cell_type": "code",
   "execution_count": 6,
   "metadata": {},
   "outputs": [
    {
     "name": "stdout",
     "output_type": "stream",
     "text": [
      "Students List:\n",
      "       Name  ID     Address  Age\n",
      "0   Shakil  15  Hemayetpur   23\n",
      "1    Ridoy  11   Kollanpur   24\n",
      "2  Shaiful  14       Savar   26\n",
      "3    Banna  13      Mirpur   25\n"
     ]
    }
   ],
   "source": [
    "print(\"Students List:\\n\",students_tab)"
   ]
  },
  {
   "cell_type": "code",
   "execution_count": 10,
   "metadata": {},
   "outputs": [
    {
     "name": "stdout",
     "output_type": "stream",
     "text": [
      "Show the first 2 rows:\n",
      "      Name  ID     Address  Age\n",
      "0  Shakil  15  Hemayetpur   23\n",
      "1   Ridoy  11   Kollanpur   24\n",
      "\n",
      "Show the last 2 rows:\n",
      "       Name  ID Address  Age\n",
      "2  Shaiful  14   Savar   26\n",
      "3    Banna  13  Mirpur   25\n"
     ]
    }
   ],
   "source": [
    "students_tab.to_csv('list.csv')\n",
    "students_tab.to_csv('list_without_index.csv', index=False)\n",
    "print(\"Show the first 2 rows:\\n\",students_tab.head(2))\n",
    "print(\"\\nShow the last 2 rows:\\n\",students_tab.tail(2))\n"
   ]
  },
  {
   "cell_type": "code",
   "execution_count": 11,
   "metadata": {},
   "outputs": [
    {
     "name": "stdout",
     "output_type": "stream",
     "text": [
      "\n",
      "Describe the data frame:\n",
      "               ID        Age\n",
      "count   4.000000   4.000000\n",
      "mean   13.250000  24.500000\n",
      "std     1.707825   1.290994\n",
      "min    11.000000  23.000000\n",
      "25%    12.500000  23.750000\n",
      "50%    13.500000  24.500000\n",
      "75%    14.250000  25.250000\n",
      "max    15.000000  26.000000\n"
     ]
    }
   ],
   "source": [
    "print(\"\\nDescribe the data frame:\\n\",students_tab.describe())"
   ]
  },
  {
   "cell_type": "code",
   "execution_count": 13,
   "metadata": {},
   "outputs": [
    {
     "name": "stdout",
     "output_type": "stream",
     "text": [
      "\n",
      "Students List 2:\n",
      "    Roll NO     Name  Dept.  Marks\n",
      "0     1545    Rahim    CSE     55\n",
      "1     7545    Karim    CSE     45\n",
      "2     1545    Jahid    EEE     78\n",
      "3     6512  Rafique  Civil     95\n",
      "4     1456     Rafi    IPH     25\n",
      "5      326  Shaidul    EEE     12\n",
      "\n",
      "Print the student list 2 Marks:\n",
      " 0    1545\n",
      "1    7545\n",
      "2    1545\n",
      "3    6512\n",
      "4    1456\n",
      "5     326\n",
      "Name: Roll NO, dtype: int64\n",
      "\n",
      "Print 1 index student roll: 7545\n"
     ]
    }
   ],
   "source": [
    "studentList2 = pd.read_csv('StudentList.csv')\n",
    "print(\"\\nStudents List 2:\\n\",studentList2)\n",
    "print(\"\\nPrint the student list 2 Marks:\\n\",studentList2['Roll NO'])\n",
    "print(\"\\nPrint 1 index student roll:\",studentList2['Roll NO'][1]) \n"
   ]
  },
  {
   "cell_type": "code",
   "execution_count": 21,
   "metadata": {},
   "outputs": [
    {
     "name": "stdout",
     "output_type": "stream",
     "text": [
      "Random Data Set generate:\n",
      "             0         1         2         3\n",
      "0    0.888990  0.072878  0.335168  0.251478\n",
      "1    0.183285  0.003617  0.305507  0.043098\n",
      "2    0.437044  0.219561  0.463124  0.542172\n",
      "3    0.205953  0.492955  0.866545  0.601243\n",
      "4    0.365647  0.928124  0.002158  0.183248\n",
      "..        ...       ...       ...       ...\n",
      "295  0.060844  0.677791  0.089669  0.741916\n",
      "296  0.599652  0.571352  0.840453  0.604887\n",
      "297  0.137837  0.233307  0.731793  0.400853\n",
      "298  0.518652  0.883495  0.336327  0.864569\n",
      "299  0.528368  0.237830  0.949661  0.476465\n",
      "\n",
      "[300 rows x 4 columns]\n",
      "\n",
      "Data Frame Types:\n",
      " 0    float64\n",
      "1    float64\n",
      "2    float64\n",
      "3    float64\n",
      "dtype: object\n",
      "\n",
      "Data Frame Head:\n",
      "           0         1         2         3\n",
      "0  0.888990  0.072878  0.335168  0.251478\n",
      "1  0.183285  0.003617  0.305507  0.043098\n",
      "2  0.437044  0.219561  0.463124  0.542172\n",
      "3  0.205953  0.492955  0.866545  0.601243\n"
     ]
    }
   ],
   "source": [
    "newdf1 = pd.DataFrame(np.random.rand(300,4), index=np.arange(300))\n",
    "print(\"Random Data Set generate:\\n\", newdf1)\n",
    "print(\"\\nData Frame Types:\\n\",newdf1.dtypes)\n",
    "print(\"\\nData Frame Head:\\n\",newdf1.head(4))"
   ]
  },
  {
   "cell_type": "code",
   "execution_count": 17,
   "metadata": {},
   "outputs": [
    {
     "name": "stdout",
     "output_type": "stream",
     "text": [
      "\n",
      "Data Frame Tail:\n",
      "             0         1         2         3\n",
      "295  0.015065  0.143851  0.489830  0.832651\n",
      "296  0.177939  0.444668  0.879211  0.673715\n",
      "297  0.903664  0.437772  0.505299  0.823309\n",
      "298  0.329543  0.588868  0.737092  0.355174\n",
      "299  0.638750  0.148366  0.306939  0.533391\n"
     ]
    }
   ],
   "source": [
    "print(\"\\nData Frame Tail:\\n\",newdf1.tail())"
   ]
  },
  {
   "cell_type": "code",
   "execution_count": 18,
   "metadata": {},
   "outputs": [
    {
     "name": "stdout",
     "output_type": "stream",
     "text": [
      "\n",
      "Data Frame Describe:\n",
      "                 0           1           2           3\n",
      "count  300.000000  300.000000  300.000000  300.000000\n",
      "mean     0.484343    0.491418    0.480151    0.491113\n",
      "std      0.288994    0.291027    0.279917    0.292248\n",
      "min      0.004078    0.002838    0.001327    0.003945\n",
      "25%      0.237083    0.236337    0.241611    0.232833\n",
      "50%      0.484519    0.474039    0.482518    0.487226\n",
      "75%      0.710207    0.754692    0.705901    0.738881\n",
      "max      0.987557    0.995717    0.999632    0.999050\n"
     ]
    }
   ],
   "source": [
    "print(\"\\nData Frame Describe:\\n\",newdf1.describe())"
   ]
  },
  {
   "cell_type": "code",
   "execution_count": 22,
   "metadata": {},
   "outputs": [
    {
     "name": "stdout",
     "output_type": "stream",
     "text": [
      "          0         1         2         3\n",
      "0    Shakil  0.072878  0.335168  0.251478\n",
      "1  0.183285  0.003617  0.305507  0.043098\n",
      "2  0.437044  0.219561  0.463124  0.542172\n",
      "3  0.205953  0.492955  0.866545  0.601243\n",
      "4  0.365647  0.928124  0.002158  0.183248\n",
      "0     object\n",
      "1    float64\n",
      "2    float64\n",
      "3    float64\n",
      "dtype: object\n"
     ]
    }
   ],
   "source": [
    "newdf1[0][0] = 'Shakil'\n",
    "print(newdf1.head())"
   ]
  },
  {
   "cell_type": "code",
   "execution_count": 23,
   "metadata": {},
   "outputs": [
    {
     "name": "stdout",
     "output_type": "stream",
     "text": [
      "0     object\n",
      "1    float64\n",
      "2    float64\n",
      "3    float64\n",
      "dtype: object\n"
     ]
    }
   ],
   "source": [
    "print(newdf1.dtypes)"
   ]
  },
  {
   "cell_type": "code",
   "execution_count": 24,
   "metadata": {},
   "outputs": [
    {
     "name": "stdout",
     "output_type": "stream",
     "text": [
      "RangeIndex(start=0, stop=4, step=1)\n"
     ]
    }
   ],
   "source": [
    "print(newdf1.columns)"
   ]
  },
  {
   "cell_type": "code",
   "execution_count": 25,
   "metadata": {},
   "outputs": [
    {
     "name": "stdout",
     "output_type": "stream",
     "text": [
      "            0         1         2         3\n",
      "299  0.528368  0.237830  0.949661  0.476465\n",
      "298  0.518652  0.883495  0.336327  0.864569\n",
      "297  0.137837  0.233307  0.731793  0.400853\n",
      "296  0.599652  0.571352  0.840453  0.604887\n",
      "295  0.060844  0.677791  0.089669  0.741916\n",
      "..        ...       ...       ...       ...\n",
      "4    0.365647  0.928124  0.002158  0.183248\n",
      "3    0.205953  0.492955  0.866545  0.601243\n",
      "2    0.437044  0.219561  0.463124  0.542172\n",
      "1    0.183285  0.003617  0.305507  0.043098\n",
      "0      Shakil  0.072878  0.335168  0.251478\n",
      "\n",
      "[300 rows x 4 columns]\n"
     ]
    }
   ],
   "source": [
    "print(newdf1.sort_index(axis=0, ascending=False))"
   ]
  },
  {
   "cell_type": "code",
   "execution_count": 26,
   "metadata": {},
   "outputs": [
    {
     "name": "stdout",
     "output_type": "stream",
     "text": [
      "            0         1         2         3\n",
      "0      Shakil  0.072878  0.335168  0.251478\n",
      "1    0.183285  0.003617  0.305507  0.043098\n",
      "2    0.437044  0.219561  0.463124  0.542172\n",
      "3    0.205953  0.492955  0.866545  0.601243\n",
      "4    0.365647  0.928124  0.002158  0.183248\n",
      "..        ...       ...       ...       ...\n",
      "295  0.060844  0.677791  0.089669  0.741916\n",
      "296  0.599652  0.571352  0.840453  0.604887\n",
      "297  0.137837  0.233307  0.731793  0.400853\n",
      "298  0.518652  0.883495  0.336327  0.864569\n",
      "299  0.528368  0.237830  0.949661  0.476465\n",
      "\n",
      "[300 rows x 4 columns]\n"
     ]
    }
   ],
   "source": [
    "print(newdf1.sort_index(axis=0))"
   ]
  },
  {
   "cell_type": "code",
   "execution_count": 28,
   "metadata": {},
   "outputs": [
    {
     "name": "stdout",
     "output_type": "stream",
     "text": [
      "          A             B         C         D\n",
      "0    Shakil  64661.000000  0.335168  0.251478\n",
      "1  0.183285      0.003617  0.305507  0.043098\n",
      "2  0.437044      0.219561  0.463124  0.542172\n",
      "3  0.205953      0.492955  0.866545  0.601243\n",
      "4  0.365647      0.928124  0.002158  0.183248\n"
     ]
    }
   ],
   "source": [
    "newdf1.columns = list(\"ABCD\")\n",
    "newdf1.loc[0,'B'] = 64661\n",
    "print(newdf1.head())"
   ]
  },
  {
   "cell_type": "code",
   "execution_count": 29,
   "metadata": {},
   "outputs": [
    {
     "name": "stdout",
     "output_type": "stream",
     "text": [
      "            A             B         C\n",
      "0      Shakil  64661.000000  0.335168\n",
      "1    0.183285      0.003617  0.305507\n",
      "2    0.437044      0.219561  0.463124\n",
      "3    0.205953      0.492955  0.866545\n",
      "4    0.365647      0.928124  0.002158\n",
      "..        ...           ...       ...\n",
      "295  0.060844      0.677791  0.089669\n",
      "296  0.599652      0.571352  0.840453\n",
      "297  0.137837      0.233307  0.731793\n",
      "298  0.518652      0.883495  0.336327\n",
      "299  0.528368      0.237830  0.949661\n",
      "\n",
      "[300 rows x 3 columns]\n"
     ]
    }
   ],
   "source": [
    "print(newdf1.drop('D', axis=1))"
   ]
  },
  {
   "cell_type": "code",
   "execution_count": 30,
   "metadata": {},
   "outputs": [
    {
     "name": "stdout",
     "output_type": "stream",
     "text": [
      "\n",
      "Show the specific row and  columns:\n",
      "           C         A\n",
      "1  0.305507  0.183285\n",
      "2  0.463124  0.437044\n",
      "3  0.866545  0.205953\n",
      "7  0.459122  0.882255\n",
      "\n",
      "show the specific row and  all columns:\n",
      "            A         B         C         D\n",
      "1   0.183285  0.003617  0.305507  0.043098\n",
      "25  0.619047  0.603635  0.431059  0.402389\n",
      "31  0.545419  0.661042  0.540040  0.370848\n",
      "75  0.082028  0.613454  0.119601  0.276034\n",
      "\n",
      "Specific Value wise filter the dataframe:\n",
      "         A        B         C         D\n",
      "0  Shakil  64661.0  0.335168  0.251478\n"
     ]
    }
   ],
   "source": [
    "print(\"\\nShow the specific row and  columns:\\n\",newdf1.loc[[1,2,3,7],['C','A']])\n",
    "print(\"\\nshow the specific row and  all columns:\\n\",newdf1.loc[[1,25,31,75],:])\n",
    "print(\"\\nSpecific Value wise filter the dataframe:\\n\",newdf1.loc[(newdf1['A']==\"Shakil\")])\n"
   ]
  },
  {
   "cell_type": "code",
   "execution_count": 31,
   "metadata": {},
   "outputs": [
    {
     "name": "stdout",
     "output_type": "stream",
     "text": [
      "          A             B         C         D\n",
      "0    Shakil  64661.000000  0.335168  0.251478\n",
      "2  0.437044      0.219561  0.463124  0.542172\n",
      "3  0.205953      0.492955  0.866545  0.601243\n",
      "5  0.945651      0.101764  0.496143  0.586580\n",
      "6  0.646386      0.655570  0.470781  0.056494\n"
     ]
    }
   ],
   "source": [
    "newdf1.drop([1,4,7,9], axis=0,inplace=True)\n",
    "print(newdf1.head(5))"
   ]
  },
  {
   "cell_type": "code",
   "execution_count": 32,
   "metadata": {},
   "outputs": [
    {
     "name": "stdout",
     "output_type": "stream",
     "text": [
      "            A             B         C         D\n",
      "0      Shakil  64661.000000  0.335168  0.251478\n",
      "1    0.437044      0.219561  0.463124  0.542172\n",
      "2    0.205953      0.492955  0.866545  0.601243\n",
      "3    0.945651      0.101764  0.496143  0.586580\n",
      "4    0.646386      0.655570  0.470781  0.056494\n",
      "..        ...           ...       ...       ...\n",
      "291  0.060844      0.677791  0.089669  0.741916\n",
      "292  0.599652      0.571352  0.840453  0.604887\n",
      "293  0.137837      0.233307  0.731793  0.400853\n",
      "294  0.518652      0.883495  0.336327  0.864569\n",
      "295  0.528368      0.237830  0.949661  0.476465\n",
      "\n",
      "[296 rows x 4 columns]\n",
      "0      False\n",
      "2      False\n",
      "3      False\n",
      "5      False\n",
      "6      False\n",
      "       ...  \n",
      "295    False\n",
      "296    False\n",
      "297    False\n",
      "298    False\n",
      "299    False\n",
      "Name: B, Length: 296, dtype: bool\n"
     ]
    }
   ],
   "source": [
    "print(newdf1.reset_index(drop=True))\n",
    "print(newdf1['B'].isnull())"
   ]
  },
  {
   "cell_type": "code",
   "execution_count": 33,
   "metadata": {},
   "outputs": [],
   "source": [
    "newdf2 = pd.read_csv('dataframe.csv')"
   ]
  },
  {
   "cell_type": "code",
   "execution_count": 34,
   "metadata": {},
   "outputs": [
    {
     "name": "stdout",
     "output_type": "stream",
     "text": [
      "   Roll NO     Name  Dept. Marks\n",
      "0     1545    Rahim    CSE    55\n",
      "1     7545    Karim    NaN    45\n",
      "2     1545    Jahid    EEE    78\n",
      "3     6512      NaN  Civil    95\n",
      "4     1456     Rafi    IPH   Nan\n",
      "5      326  Shaidul    EEE    12\n",
      "6     1545    Rahim    CSE    55\n"
     ]
    }
   ],
   "source": [
    "print(newdf2)"
   ]
  },
  {
   "cell_type": "code",
   "execution_count": 36,
   "metadata": {},
   "outputs": [
    {
     "name": "stdout",
     "output_type": "stream",
     "text": [
      "Drop the null value:\n",
      "    Roll NO     Name Dept. Marks\n",
      "0     1545    Rahim   CSE    55\n",
      "2     1545    Jahid   EEE    78\n",
      "4     1456     Rafi   IPH   Nan\n",
      "5      326  Shaidul   EEE    12\n",
      "6     1545    Rahim   CSE    55\n",
      "\n",
      "Drop the duplicates value & keep single one:\n",
      "    Roll NO     Name  Dept. Marks\n",
      "0     1545    Rahim    CSE    55\n",
      "1     7545    Karim    NaN    45\n",
      "3     6512      NaN  Civil    95\n",
      "4     1456     Rafi    IPH   Nan\n",
      "5      326  Shaidul    EEE    12\n",
      "\n",
      "Drop the duplicates value & keep first duplicates value:\n",
      "    Roll NO     Name  Dept. Marks\n",
      "0     1545    Rahim    CSE    55\n",
      "1     7545    Karim    NaN    45\n",
      "3     6512      NaN  Civil    95\n",
      "4     1456     Rafi    IPH   Nan\n",
      "5      326  Shaidul    EEE    12\n",
      "\n",
      "Drop the duplicates value & keep last duplicates value:\n",
      "    Roll NO     Name  Dept. Marks\n",
      "1     7545    Karim    NaN    45\n",
      "3     6512      NaN  Civil    95\n",
      "4     1456     Rafi    IPH   Nan\n",
      "5      326  Shaidul    EEE    12\n",
      "6     1545    Rahim    CSE    55\n",
      "\n",
      "Drop the duplicates all values:\n",
      "    Roll NO     Name  Dept. Marks\n",
      "1     7545    Karim    NaN    45\n",
      "3     6512      NaN  Civil    95\n",
      "4     1456     Rafi    IPH   Nan\n",
      "5      326  Shaidul    EEE    12\n"
     ]
    }
   ],
   "source": [
    "print(\"Drop the null value:\\n\",newdf2.dropna())\n",
    "print(\"\\nDrop the duplicates value & keep single one:\\n\",newdf2.drop_duplicates(subset=['Roll NO']))\n",
    "print(\"\\nDrop the duplicates value & keep first duplicates value:\\n\",newdf2.drop_duplicates(subset=['Roll NO'],keep='first'))\n",
    "print(\"\\nDrop the duplicates value & keep last duplicates value:\\n\",newdf2.drop_duplicates(subset=['Roll NO'],keep='last'))\n",
    "print(\"\\nDrop the duplicates all values:\\n\",newdf2.drop_duplicates(subset=['Roll NO'],keep=False))"
   ]
  },
  {
   "cell_type": "code",
   "execution_count": 37,
   "metadata": {},
   "outputs": [
    {
     "name": "stdout",
     "output_type": "stream",
     "text": [
      "(296, 4)\n"
     ]
    }
   ],
   "source": [
    "print(newdf1.shape)"
   ]
  },
  {
   "cell_type": "code",
   "execution_count": 38,
   "metadata": {},
   "outputs": [
    {
     "name": "stdout",
     "output_type": "stream",
     "text": [
      "   Roll NO     Name  Dept. Marks\n",
      "0     1545    Rahim    CSE    55\n",
      "1     7545    Karim    NaN    45\n",
      "2     1545    Jahid    EEE    78\n",
      "3     6512      NaN  Civil    95\n",
      "4     1456     Rafi    IPH   Nan\n",
      "5      326  Shaidul    EEE    12\n",
      "6     1545    Rahim    CSE    55\n"
     ]
    }
   ],
   "source": [
    "print(newdf2)"
   ]
  },
  {
   "cell_type": "code",
   "execution_count": 39,
   "metadata": {},
   "outputs": [
    {
     "name": "stdout",
     "output_type": "stream",
     "text": [
      "<class 'pandas.core.frame.DataFrame'>\n",
      "RangeIndex: 7 entries, 0 to 6\n",
      "Data columns (total 4 columns):\n",
      " #   Column   Non-Null Count  Dtype \n",
      "---  ------   --------------  ----- \n",
      " 0   Roll NO  7 non-null      int64 \n",
      " 1   Name     6 non-null      object\n",
      " 2   Dept.    6 non-null      object\n",
      " 3   Marks    7 non-null      object\n",
      "dtypes: int64(1), object(3)\n",
      "memory usage: 352.0+ bytes\n",
      "Data Frame Info:\n",
      " None\n"
     ]
    }
   ],
   "source": [
    "print(\"Data Frame Info:\\n\",newdf2.info())"
   ]
  },
  {
   "cell_type": "code",
   "execution_count": 40,
   "metadata": {},
   "outputs": [
    {
     "name": "stdout",
     "output_type": "stream",
     "text": [
      "   Roll NO   Name  Dept.  Marks\n",
      "0     True   True   True   True\n",
      "1     True   True  False   True\n",
      "2     True   True   True   True\n",
      "3     True  False   True   True\n",
      "4     True   True   True   True\n",
      "5     True   True   True   True\n",
      "6     True   True   True   True\n"
     ]
    }
   ],
   "source": [
    "print(newdf2.notnull())"
   ]
  },
  {
   "cell_type": "code",
   "execution_count": 41,
   "metadata": {},
   "outputs": [
    {
     "ename": "FileNotFoundError",
     "evalue": "[Errno 2] No such file or directory: 'instututesdf.xlsx'",
     "output_type": "error",
     "traceback": [
      "\u001b[0;31m---------------------------------------------------------------------------\u001b[0m",
      "\u001b[0;31mFileNotFoundError\u001b[0m                         Traceback (most recent call last)",
      "Cell \u001b[0;32mIn[41], line 1\u001b[0m\n\u001b[0;32m----> 1\u001b[0m newdf3 \u001b[39m=\u001b[39m pd\u001b[39m.\u001b[39;49mread_excel(\u001b[39m'\u001b[39;49m\u001b[39minstututesdf.xlsx\u001b[39;49m\u001b[39m'\u001b[39;49m)\n\u001b[1;32m      2\u001b[0m \u001b[39mprint\u001b[39m(\u001b[39m\"\u001b[39m\u001b[39mInstitute data frame:\u001b[39m\u001b[39m\\n\u001b[39;00m\u001b[39m\"\u001b[39m, newdf3)\n",
      "File \u001b[0;32m~/.local/lib/python3.10/site-packages/pandas/util/_decorators.py:211\u001b[0m, in \u001b[0;36mdeprecate_kwarg.<locals>._deprecate_kwarg.<locals>.wrapper\u001b[0;34m(*args, **kwargs)\u001b[0m\n\u001b[1;32m    209\u001b[0m     \u001b[39melse\u001b[39;00m:\n\u001b[1;32m    210\u001b[0m         kwargs[new_arg_name] \u001b[39m=\u001b[39m new_arg_value\n\u001b[0;32m--> 211\u001b[0m \u001b[39mreturn\u001b[39;00m func(\u001b[39m*\u001b[39;49margs, \u001b[39m*\u001b[39;49m\u001b[39m*\u001b[39;49mkwargs)\n",
      "File \u001b[0;32m~/.local/lib/python3.10/site-packages/pandas/util/_decorators.py:331\u001b[0m, in \u001b[0;36mdeprecate_nonkeyword_arguments.<locals>.decorate.<locals>.wrapper\u001b[0;34m(*args, **kwargs)\u001b[0m\n\u001b[1;32m    325\u001b[0m \u001b[39mif\u001b[39;00m \u001b[39mlen\u001b[39m(args) \u001b[39m>\u001b[39m num_allow_args:\n\u001b[1;32m    326\u001b[0m     warnings\u001b[39m.\u001b[39mwarn(\n\u001b[1;32m    327\u001b[0m         msg\u001b[39m.\u001b[39mformat(arguments\u001b[39m=\u001b[39m_format_argument_list(allow_args)),\n\u001b[1;32m    328\u001b[0m         \u001b[39mFutureWarning\u001b[39;00m,\n\u001b[1;32m    329\u001b[0m         stacklevel\u001b[39m=\u001b[39mfind_stack_level(),\n\u001b[1;32m    330\u001b[0m     )\n\u001b[0;32m--> 331\u001b[0m \u001b[39mreturn\u001b[39;00m func(\u001b[39m*\u001b[39;49margs, \u001b[39m*\u001b[39;49m\u001b[39m*\u001b[39;49mkwargs)\n",
      "File \u001b[0;32m~/.local/lib/python3.10/site-packages/pandas/io/excel/_base.py:482\u001b[0m, in \u001b[0;36mread_excel\u001b[0;34m(io, sheet_name, header, names, index_col, usecols, squeeze, dtype, engine, converters, true_values, false_values, skiprows, nrows, na_values, keep_default_na, na_filter, verbose, parse_dates, date_parser, thousands, decimal, comment, skipfooter, convert_float, mangle_dupe_cols, storage_options)\u001b[0m\n\u001b[1;32m    480\u001b[0m \u001b[39mif\u001b[39;00m \u001b[39mnot\u001b[39;00m \u001b[39misinstance\u001b[39m(io, ExcelFile):\n\u001b[1;32m    481\u001b[0m     should_close \u001b[39m=\u001b[39m \u001b[39mTrue\u001b[39;00m\n\u001b[0;32m--> 482\u001b[0m     io \u001b[39m=\u001b[39m ExcelFile(io, storage_options\u001b[39m=\u001b[39;49mstorage_options, engine\u001b[39m=\u001b[39;49mengine)\n\u001b[1;32m    483\u001b[0m \u001b[39melif\u001b[39;00m engine \u001b[39mand\u001b[39;00m engine \u001b[39m!=\u001b[39m io\u001b[39m.\u001b[39mengine:\n\u001b[1;32m    484\u001b[0m     \u001b[39mraise\u001b[39;00m \u001b[39mValueError\u001b[39;00m(\n\u001b[1;32m    485\u001b[0m         \u001b[39m\"\u001b[39m\u001b[39mEngine should not be specified when passing \u001b[39m\u001b[39m\"\u001b[39m\n\u001b[1;32m    486\u001b[0m         \u001b[39m\"\u001b[39m\u001b[39man ExcelFile - ExcelFile already has the engine set\u001b[39m\u001b[39m\"\u001b[39m\n\u001b[1;32m    487\u001b[0m     )\n",
      "File \u001b[0;32m~/.local/lib/python3.10/site-packages/pandas/io/excel/_base.py:1652\u001b[0m, in \u001b[0;36mExcelFile.__init__\u001b[0;34m(self, path_or_buffer, engine, storage_options)\u001b[0m\n\u001b[1;32m   1650\u001b[0m     ext \u001b[39m=\u001b[39m \u001b[39m\"\u001b[39m\u001b[39mxls\u001b[39m\u001b[39m\"\u001b[39m\n\u001b[1;32m   1651\u001b[0m \u001b[39melse\u001b[39;00m:\n\u001b[0;32m-> 1652\u001b[0m     ext \u001b[39m=\u001b[39m inspect_excel_format(\n\u001b[1;32m   1653\u001b[0m         content_or_path\u001b[39m=\u001b[39;49mpath_or_buffer, storage_options\u001b[39m=\u001b[39;49mstorage_options\n\u001b[1;32m   1654\u001b[0m     )\n\u001b[1;32m   1655\u001b[0m     \u001b[39mif\u001b[39;00m ext \u001b[39mis\u001b[39;00m \u001b[39mNone\u001b[39;00m:\n\u001b[1;32m   1656\u001b[0m         \u001b[39mraise\u001b[39;00m \u001b[39mValueError\u001b[39;00m(\n\u001b[1;32m   1657\u001b[0m             \u001b[39m\"\u001b[39m\u001b[39mExcel file format cannot be determined, you must specify \u001b[39m\u001b[39m\"\u001b[39m\n\u001b[1;32m   1658\u001b[0m             \u001b[39m\"\u001b[39m\u001b[39man engine manually.\u001b[39m\u001b[39m\"\u001b[39m\n\u001b[1;32m   1659\u001b[0m         )\n",
      "File \u001b[0;32m~/.local/lib/python3.10/site-packages/pandas/io/excel/_base.py:1525\u001b[0m, in \u001b[0;36minspect_excel_format\u001b[0;34m(content_or_path, storage_options)\u001b[0m\n\u001b[1;32m   1522\u001b[0m \u001b[39mif\u001b[39;00m \u001b[39misinstance\u001b[39m(content_or_path, \u001b[39mbytes\u001b[39m):\n\u001b[1;32m   1523\u001b[0m     content_or_path \u001b[39m=\u001b[39m BytesIO(content_or_path)\n\u001b[0;32m-> 1525\u001b[0m \u001b[39mwith\u001b[39;00m get_handle(\n\u001b[1;32m   1526\u001b[0m     content_or_path, \u001b[39m\"\u001b[39;49m\u001b[39mrb\u001b[39;49m\u001b[39m\"\u001b[39;49m, storage_options\u001b[39m=\u001b[39;49mstorage_options, is_text\u001b[39m=\u001b[39;49m\u001b[39mFalse\u001b[39;49;00m\n\u001b[1;32m   1527\u001b[0m ) \u001b[39mas\u001b[39;00m handle:\n\u001b[1;32m   1528\u001b[0m     stream \u001b[39m=\u001b[39m handle\u001b[39m.\u001b[39mhandle\n\u001b[1;32m   1529\u001b[0m     stream\u001b[39m.\u001b[39mseek(\u001b[39m0\u001b[39m)\n",
      "File \u001b[0;32m~/.local/lib/python3.10/site-packages/pandas/io/common.py:865\u001b[0m, in \u001b[0;36mget_handle\u001b[0;34m(path_or_buf, mode, encoding, compression, memory_map, is_text, errors, storage_options)\u001b[0m\n\u001b[1;32m    856\u001b[0m         handle \u001b[39m=\u001b[39m \u001b[39mopen\u001b[39m(\n\u001b[1;32m    857\u001b[0m             handle,\n\u001b[1;32m    858\u001b[0m             ioargs\u001b[39m.\u001b[39mmode,\n\u001b[0;32m   (...)\u001b[0m\n\u001b[1;32m    861\u001b[0m             newline\u001b[39m=\u001b[39m\u001b[39m\"\u001b[39m\u001b[39m\"\u001b[39m,\n\u001b[1;32m    862\u001b[0m         )\n\u001b[1;32m    863\u001b[0m     \u001b[39melse\u001b[39;00m:\n\u001b[1;32m    864\u001b[0m         \u001b[39m# Binary mode\u001b[39;00m\n\u001b[0;32m--> 865\u001b[0m         handle \u001b[39m=\u001b[39m \u001b[39mopen\u001b[39;49m(handle, ioargs\u001b[39m.\u001b[39;49mmode)\n\u001b[1;32m    866\u001b[0m     handles\u001b[39m.\u001b[39mappend(handle)\n\u001b[1;32m    868\u001b[0m \u001b[39m# Convert BytesIO or file objects passed with an encoding\u001b[39;00m\n",
      "\u001b[0;31mFileNotFoundError\u001b[0m: [Errno 2] No such file or directory: 'instututesdf.xlsx'"
     ]
    },
    {
     "name": "stderr",
     "output_type": "stream",
     "text": [
      "Bad pipe message: %s [b\"?\\xc8\\xe8#\\xb0}\\x91\\xf9\\xe2\\xf1\\xee\\xe7\\xfa\\xdbN'\\x97D\\x00\\x00|\\xc0,\\xc00\\x00\\xa3\\x00\\x9f\\xcc\\xa9\\xcc\\xa8\\xcc\\xaa\\xc0\\xaf\\xc0\\xad\\xc0\\xa3\\xc0\\x9f\\xc0]\\xc0a\\xc0W\\xc0S\\xc0+\\xc0/\\x00\\xa2\\x00\\x9e\\xc0\\xae\\xc0\\xac\\xc0\\xa2\\xc0\\x9e\\xc0\\\\\\xc0`\\xc0V\\xc0R\\xc0$\\xc0(\\x00k\\x00j\\xc0#\\xc0'\\x00g\\x00@\\xc0\\n\\xc0\\x14\\x009\\x008\\xc0\\t\\xc0\\x13\\x003\\x002\\x00\\x9d\\xc0\\xa1\\xc0\\x9d\\xc0Q\\x00\\x9c\\xc0\\xa0\\xc0\"]\n",
      "Bad pipe message: %s [b'\\xf3\\x8b9\\x8c(x\\xf1\\x0e\\x112QHY\\xb4\\xd8\\xab\\xaf\\x95\\x00\\x00\\xa2\\xc0\\x14\\xc0\\n\\x009\\x008\\x007\\x006\\x00\\x88\\x00\\x87\\x00\\x86\\x00\\x85\\xc0\\x19\\x00:\\x00\\x89\\xc0\\x0f\\xc0\\x05\\x005\\x00\\x84\\xc0\\x13\\xc0\\t\\x003\\x002\\x001\\x000\\x00\\x9a\\x00\\x99\\x00\\x98\\x00\\x97\\x00E\\x00D\\x00C\\x00B\\xc0\\x18\\x004\\x00\\x9b\\x00F\\xc0\\x0e\\xc0\\x04\\x00/\\x00\\x96\\x00A\\x00\\x07\\xc0\\x11\\xc0\\x07\\xc0\\x16\\x00\\x18\\xc0\\x0c\\xc0\\x02\\x00\\x05\\x00\\x04\\xc0\\x12\\xc0\\x08\\x00\\x16\\x00\\x13\\x00\\x10\\x00\\r\\xc0\\x17\\x00\\x1b\\xc0\\r\\xc0\\x03\\x00\\n\\x00\\x15\\x00\\x12\\x00\\x0f\\x00\\x0c\\x00\\x1a\\x00\\t\\x00\\x14\\x00\\x11\\x00\\x19\\x00\\x08\\x00\\x06\\x00\\x17\\x00\\x03\\xc0\\x10\\xc0\\x06\\xc0\\x15\\xc0\\x0b\\xc0\\x01\\x00\\x02\\x00\\x01\\x00\\xff\\x02\\x01\\x00\\x00C\\x00\\x00\\x00\\x0e\\x00\\x0c\\x00\\x00\\t127.0.0.1\\x00\\x0b\\x00\\x04\\x03\\x00\\x01\\x02\\x00\\n\\x00\\x1c\\x00\\x1a\\x00\\x17\\x00\\x19\\x00\\x1c\\x00\\x1b\\x00\\x18\\x00\\x1a\\x00\\x16\\x00\\x0e\\x00\\r\\x00\\x0b\\x00\\x0c\\x00\\t\\x00']\n",
      "Bad pipe message: %s [b'#\\x00\\x00\\x00\\x0f\\x00\\x01\\x01\\x15']\n",
      "Bad pipe message: %s [b'`\\xf6^y\\xc2\\xb6.\\xfdo;j\\x97\\x0c\\xa7a!%\\xf7\\x00\\x00\\xa2\\xc0\\x14\\xc0\\n\\x009\\x008\\x007\\x006\\x00\\x88\\x00\\x87\\x00\\x86\\x00\\x85\\xc0\\x19\\x00:\\x00\\x89\\xc0\\x0f\\xc0\\x05\\x005\\x00\\x84\\xc0\\x13\\xc0\\t\\x003\\x002\\x001\\x000\\x00\\x9a\\x00\\x99\\x00\\x98\\x00\\x97\\x00E\\x00D\\x00C\\x00B\\xc0\\x18\\x004\\x00\\x9b\\x00F\\xc0\\x0e\\xc0\\x04\\x00/\\x00\\x96\\x00A\\x00\\x07\\xc0\\x11\\xc0\\x07\\xc0\\x16\\x00\\x18\\xc0\\x0c\\xc0\\x02\\x00\\x05\\x00\\x04\\xc0\\x12\\xc0\\x08\\x00\\x16\\x00\\x13\\x00\\x10\\x00\\r\\xc0\\x17\\x00\\x1b\\xc0\\r\\xc0\\x03\\x00\\n\\x00\\x15\\x00\\x12\\x00\\x0f\\x00\\x0c\\x00\\x1a\\x00\\t\\x00\\x14\\x00\\x11\\x00\\x19\\x00\\x08\\x00\\x06\\x00\\x17\\x00\\x03\\xc0\\x10']\n",
      "Bad pipe message: %s [b'\\xd2M\\x9e\"\\xb3bxI\\x93\\x14I\\x82a4\\xa0\\x0e\\xe9\\x9e\\x00\\x00\\x86\\xc00\\xc0,\\xc0(\\xc0$\\xc0\\x14', b\"\\x00\\xa5\\x00\\xa3\\x00\\xa1\\x00\\x9f\\x00k\\x00j\\x00i\\x00h\\x009\\x008\\x007\\x006\\xc02\\xc0.\\xc0*\\xc0&\\xc0\\x0f\\xc0\\x05\\x00\\x9d\\x00=\\x005\\xc0/\\xc0+\\xc0'\\xc0#\\xc0\\x13\\xc0\\t\\x00\\xa4\\x00\\xa2\\x00\\xa0\\x00\\x9e\\x00g\\x00@\\x00?\\x00>\\x003\\x002\\x001\\x000\\xc01\\xc0-\\xc0)\\xc0%\\xc0\\x0e\\xc0\\x04\\x00\\x9c\\x00<\\x00/\\x00\\x9a\\x00\\x99\\x00\\x98\\x00\\x97\\x00\\x96\\x00\\x07\\xc0\\x11\\xc0\\x07\\xc0\\x0c\\xc0\\x02\\x00\\x05\\x00\\x04\\x00\\xff\\x02\\x01\\x00\\x00g\\x00\\x00\\x00\\x0e\\x00\\x0c\\x00\\x00\\t127.0.0.1\\x00\\x0b\\x00\\x04\\x03\\x00\\x01\\x02\\x00\\n\\x00\\x1c\\x00\\x1a\\x00\\x17\\x00\\x19\\x00\\x1c\\x00\\x1b\\x00\\x18\\x00\\x1a\\x00\\x16\\x00\\x0e\\x00\\r\\x00\\x0b\\x00\\x0c\\x00\\t\\x00\\n\\x00#\\x00\\x00\\x00\\r\"]\n",
      "Bad pipe message: %s [b\"3\\xe2\\xed\\xe5'H\\x0c\\xa5\\xcf\\xd7&\\xa8X\\xbc\\x18T\\xb2\\x88\\x00\\x00\\xf4\\xc00\\xc0,\\xc0(\\xc0$\\xc0\\x14\\xc0\\n\\x00\\xa5\\x00\\xa3\\x00\\xa1\\x00\\x9f\\x00k\\x00j\\x00i\\x00h\\x009\\x008\\x007\\x006\\x00\\x88\\x00\\x87\\x00\\x86\\x00\\x85\\xc0\\x19\\x00\\xa7\\x00m\\x00:\\x00\\x89\\xc02\\xc0.\\xc0*\\xc0&\\xc0\\x0f\\xc0\\x05\\x00\\x9d\\x00=\\x005\\x00\\x84\\xc0/\\xc0+\\xc0'\\xc0#\\xc0\\x13\\xc0\\t\\x00\\xa4\\x00\\xa2\\x00\\xa0\\x00\\x9e\\x00g\\x00@\\x00?\\x00>\\x003\\x002\\x001\\x000\\x00\\x9a\\x00\\x99\\x00\\x98\\x00\\x97\\x00E\\x00D\\x00C\\x00B\\xc0\\x18\\x00\\xa6\\x00l\\x004\\x00\\x9b\\x00F\\xc01\\xc0-\\xc0)\"]\n",
      "Bad pipe message: %s [b'\\xc0\\x0e\\xc0\\x04\\x00\\x9c\\x00<\\x00/\\x00\\x96\\x00A\\x00\\x07\\xc0\\x11\\xc0\\x07\\xc0\\x16\\x00\\x18\\xc0\\x0c\\xc0\\x02\\x00\\x05\\x00\\x04\\xc0\\x12\\xc0\\x08\\x00\\x16\\x00\\x13\\x00\\x10\\x00\\r\\xc0\\x17\\x00\\x1b\\xc0\\r\\xc0\\x03\\x00\\n\\x00\\x15\\x00\\x12\\x00\\x0f\\x00\\x0c\\x00\\x1a\\x00\\t\\x00\\x14\\x00\\x11\\x00\\x19\\x00\\x08\\x00\\x06\\x00\\x17\\x00\\x03\\xc0\\x10\\xc0\\x06\\xc0\\x15\\xc0\\x0b\\xc0\\x01\\x00;\\x00\\x02\\x00\\x01\\x00\\xff\\x02\\x01\\x00\\x00g\\x00\\x00\\x00\\x0e\\x00\\x0c\\x00\\x00\\t127.0.0.1\\x00\\x0b\\x00\\x04\\x03\\x00\\x01\\x02\\x00\\n\\x00\\x1c\\x00\\x1a\\x00\\x17\\x00\\x19\\x00\\x1c\\x00\\x1b\\x00\\x18\\x00\\x1a\\x00\\x16\\x00\\x0e\\x00\\r\\x00\\x0b\\x00\\x0c\\x00\\t\\x00\\n\\x00#\\x00\\x00\\x00\\r\\x00 \\x00\\x1e\\x06\\x01\\x06\\x02\\x06\\x03\\x05\\x01\\x05\\x02\\x05\\x03\\x04\\x01\\x04\\x02\\x04\\x03\\x03\\x01', b'\\x03\\x03']\n",
      "Bad pipe message: %s [b'\\x02', b'\\x03']\n"
     ]
    }
   ],
   "source": [
    "newdf3 = pd.read_excel('instututesdf.xlsx')\n",
    "print(\"Institute data frame:\\n\", newdf3)"
   ]
  },
  {
   "cell_type": "code",
   "execution_count": null,
   "metadata": {},
   "outputs": [],
   "source": []
  }
 ],
 "metadata": {
  "kernelspec": {
   "display_name": "Python 3",
   "language": "python",
   "name": "python3"
  },
  "language_info": {
   "codemirror_mode": {
    "name": "ipython",
    "version": 3
   },
   "file_extension": ".py",
   "mimetype": "text/x-python",
   "name": "python",
   "nbconvert_exporter": "python",
   "pygments_lexer": "ipython3",
   "version": "3.10.4"
  },
  "orig_nbformat": 4,
  "vscode": {
   "interpreter": {
    "hash": "3ad933181bd8a04b432d3370b9dc3b0662ad032c4dfaa4e4f1596c548f763858"
   }
  }
 },
 "nbformat": 4,
 "nbformat_minor": 2
}
