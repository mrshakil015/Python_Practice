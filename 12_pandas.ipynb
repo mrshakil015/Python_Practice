{
 "cells": [
  {
   "cell_type": "code",
   "execution_count": 1,
   "metadata": {},
   "outputs": [],
   "source": [
    "import numpy as np\n",
    "import pandas as pd"
   ]
  },
  {
   "cell_type": "code",
   "execution_count": 2,
   "metadata": {},
   "outputs": [],
   "source": [
    "student_dict = {\n",
    "    \"Name\":['Shakil','Ridoy','Shaiful','Banna'],\n",
    "    \"ID\":[15,11,14,13],\n",
    "    \"Address\":['Hemayetpur','Kollanpur','Savar','Mirpur'],\n",
    "    \"Age\":[23,24,26,25]\n",
    "}"
   ]
  },
  {
   "cell_type": "code",
   "execution_count": 3,
   "metadata": {},
   "outputs": [],
   "source": [
    "students_tab = pd.DataFrame(student_dict)"
   ]
  },
  {
   "cell_type": "code",
   "execution_count": 4,
   "metadata": {},
   "outputs": [
    {
     "name": "stdout",
     "output_type": "stream",
     "text": [
      "Students List:\n",
      "       Name  ID     Address  Age\n",
      "0   Shakil  15  Hemayetpur   23\n",
      "1    Ridoy  11   Kollanpur   24\n",
      "2  Shaiful  14       Savar   26\n",
      "3    Banna  13      Mirpur   25\n"
     ]
    }
   ],
   "source": [
    "print(\"Students List:\\n\",students_tab)"
   ]
  },
  {
   "cell_type": "code",
   "execution_count": 5,
   "metadata": {},
   "outputs": [
    {
     "name": "stdout",
     "output_type": "stream",
     "text": [
      "Show the first 2 rows:\n",
      "      Name  ID     Address  Age\n",
      "0  Shakil  15  Hemayetpur   23\n",
      "1   Ridoy  11   Kollanpur   24\n",
      "\n",
      "Show the last 2 rows:\n",
      "       Name  ID Address  Age\n",
      "2  Shaiful  14   Savar   26\n",
      "3    Banna  13  Mirpur   25\n"
     ]
    }
   ],
   "source": [
    "students_tab.to_csv('list.csv')\n",
    "students_tab.to_csv('list_without_index.csv', index=False)\n",
    "print(\"Show the first 2 rows:\\n\",students_tab.head(2))\n",
    "print(\"\\nShow the last 2 rows:\\n\",students_tab.tail(2))\n"
   ]
  },
  {
   "cell_type": "code",
   "execution_count": 6,
   "metadata": {},
   "outputs": [
    {
     "name": "stdout",
     "output_type": "stream",
     "text": [
      "\n",
      "Describe the data frame:\n",
      "               ID        Age\n",
      "count   4.000000   4.000000\n",
      "mean   13.250000  24.500000\n",
      "std     1.707825   1.290994\n",
      "min    11.000000  23.000000\n",
      "25%    12.500000  23.750000\n",
      "50%    13.500000  24.500000\n",
      "75%    14.250000  25.250000\n",
      "max    15.000000  26.000000\n"
     ]
    }
   ],
   "source": [
    "print(\"\\nDescribe the data frame:\\n\",students_tab.describe())"
   ]
  },
  {
   "cell_type": "code",
   "execution_count": 7,
   "metadata": {},
   "outputs": [
    {
     "name": "stdout",
     "output_type": "stream",
     "text": [
      "\n",
      "Students List 2:\n",
      "    Roll NO     Name  Dept.  Marks\n",
      "0     1545    Rahim    CSE     55\n",
      "1     7545    Karim    CSE     45\n",
      "2     1545    Jahid    EEE     78\n",
      "3     6512  Rafique  Civil     95\n",
      "4     1456     Rafi    IPH     25\n",
      "5      326  Shaidul    EEE     12\n",
      "\n",
      "Print the student list 2 Marks:\n",
      " 0    1545\n",
      "1    7545\n",
      "2    1545\n",
      "3    6512\n",
      "4    1456\n",
      "5     326\n",
      "Name: Roll NO, dtype: int64\n",
      "\n",
      "Print 1 index student roll: 7545\n"
     ]
    }
   ],
   "source": [
    "studentList2 = pd.read_csv('StudentList.csv')\n",
    "print(\"\\nStudents List 2:\\n\",studentList2)\n",
    "print(\"\\nPrint the student list 2 Marks:\\n\",studentList2['Roll NO'])\n",
    "print(\"\\nPrint 1 index student roll:\",studentList2['Roll NO'][1]) \n"
   ]
  },
  {
   "cell_type": "code",
   "execution_count": 8,
   "metadata": {},
   "outputs": [
    {
     "name": "stdout",
     "output_type": "stream",
     "text": [
      "Random Data Set generate:\n",
      "             0         1         2         3\n",
      "0    0.875751  0.911102  0.459204  0.010794\n",
      "1    0.303237  0.401338  0.023158  0.970546\n",
      "2    0.914448  0.461241  0.775111  0.187342\n",
      "3    0.520005  0.519051  0.865163  0.505853\n",
      "4    0.347212  0.240804  0.006705  0.795129\n",
      "..        ...       ...       ...       ...\n",
      "295  0.536607  0.422304  0.774033  0.789704\n",
      "296  0.388263  0.821250  0.199074  0.488542\n",
      "297  0.503948  0.151826  0.142850  0.380553\n",
      "298  0.296732  0.028162  0.207288  0.184905\n",
      "299  0.611377  0.811757  0.690619  0.677967\n",
      "\n",
      "[300 rows x 4 columns]\n",
      "\n",
      "Data Frame Types:\n",
      " 0    float64\n",
      "1    float64\n",
      "2    float64\n",
      "3    float64\n",
      "dtype: object\n",
      "\n",
      "Data Frame Head:\n",
      "           0         1         2         3\n",
      "0  0.875751  0.911102  0.459204  0.010794\n",
      "1  0.303237  0.401338  0.023158  0.970546\n",
      "2  0.914448  0.461241  0.775111  0.187342\n",
      "3  0.520005  0.519051  0.865163  0.505853\n"
     ]
    }
   ],
   "source": [
    "newdf1 = pd.DataFrame(np.random.rand(300,4), index=np.arange(300))\n",
    "print(\"Random Data Set generate:\\n\", newdf1)\n",
    "print(\"\\nData Frame Types:\\n\",newdf1.dtypes)\n",
    "print(\"\\nData Frame Head:\\n\",newdf1.head(4))"
   ]
  },
  {
   "cell_type": "code",
   "execution_count": 9,
   "metadata": {},
   "outputs": [
    {
     "name": "stdout",
     "output_type": "stream",
     "text": [
      "\n",
      "Data Frame Tail:\n",
      "             0         1         2         3\n",
      "295  0.536607  0.422304  0.774033  0.789704\n",
      "296  0.388263  0.821250  0.199074  0.488542\n",
      "297  0.503948  0.151826  0.142850  0.380553\n",
      "298  0.296732  0.028162  0.207288  0.184905\n",
      "299  0.611377  0.811757  0.690619  0.677967\n"
     ]
    }
   ],
   "source": [
    "print(\"\\nData Frame Tail:\\n\",newdf1.tail())"
   ]
  },
  {
   "cell_type": "code",
   "execution_count": 10,
   "metadata": {},
   "outputs": [
    {
     "name": "stdout",
     "output_type": "stream",
     "text": [
      "\n",
      "Data Frame Describe:\n",
      "                 0           1           2           3\n",
      "count  300.000000  300.000000  300.000000  300.000000\n",
      "mean     0.516694    0.518878    0.496731    0.483977\n",
      "std      0.282803    0.280476    0.292918    0.284300\n",
      "min      0.001299    0.011282    0.006705    0.003613\n",
      "25%      0.286254    0.298339    0.245568    0.223751\n",
      "50%      0.534420    0.505407    0.500578    0.484568\n",
      "75%      0.742720    0.746444    0.765192    0.729316\n",
      "max      0.998724    0.994735    0.992757    0.998756\n"
     ]
    }
   ],
   "source": [
    "print(\"\\nData Frame Describe:\\n\",newdf1.describe())"
   ]
  },
  {
   "cell_type": "code",
   "execution_count": 11,
   "metadata": {},
   "outputs": [
    {
     "name": "stdout",
     "output_type": "stream",
     "text": [
      "          0         1         2         3\n",
      "0    Shakil  0.911102  0.459204  0.010794\n",
      "1  0.303237  0.401338  0.023158  0.970546\n",
      "2  0.914448  0.461241  0.775111  0.187342\n",
      "3  0.520005  0.519051  0.865163  0.505853\n",
      "4  0.347212  0.240804  0.006705  0.795129\n"
     ]
    }
   ],
   "source": [
    "newdf1[0][0] = 'Shakil'\n",
    "print(newdf1.head())"
   ]
  },
  {
   "cell_type": "code",
   "execution_count": 12,
   "metadata": {},
   "outputs": [
    {
     "name": "stdout",
     "output_type": "stream",
     "text": [
      "0     object\n",
      "1    float64\n",
      "2    float64\n",
      "3    float64\n",
      "dtype: object\n"
     ]
    }
   ],
   "source": [
    "print(newdf1.dtypes)"
   ]
  },
  {
   "cell_type": "code",
   "execution_count": 13,
   "metadata": {},
   "outputs": [
    {
     "name": "stdout",
     "output_type": "stream",
     "text": [
      "RangeIndex(start=0, stop=4, step=1)\n"
     ]
    }
   ],
   "source": [
    "print(newdf1.columns)"
   ]
  },
  {
   "cell_type": "code",
   "execution_count": 14,
   "metadata": {},
   "outputs": [
    {
     "name": "stdout",
     "output_type": "stream",
     "text": [
      "            0         1         2         3\n",
      "299  0.611377  0.811757  0.690619  0.677967\n",
      "298  0.296732  0.028162  0.207288  0.184905\n",
      "297  0.503948  0.151826  0.142850  0.380553\n",
      "296  0.388263  0.821250  0.199074  0.488542\n",
      "295  0.536607  0.422304  0.774033  0.789704\n",
      "..        ...       ...       ...       ...\n",
      "4    0.347212  0.240804  0.006705  0.795129\n",
      "3    0.520005  0.519051  0.865163  0.505853\n",
      "2    0.914448  0.461241  0.775111  0.187342\n",
      "1    0.303237  0.401338  0.023158  0.970546\n",
      "0      Shakil  0.911102  0.459204  0.010794\n",
      "\n",
      "[300 rows x 4 columns]\n"
     ]
    }
   ],
   "source": [
    "print(newdf1.sort_index(axis=0, ascending=False))"
   ]
  },
  {
   "cell_type": "code",
   "execution_count": 15,
   "metadata": {},
   "outputs": [
    {
     "name": "stdout",
     "output_type": "stream",
     "text": [
      "            0         1         2         3\n",
      "0      Shakil  0.911102  0.459204  0.010794\n",
      "1    0.303237  0.401338  0.023158  0.970546\n",
      "2    0.914448  0.461241  0.775111  0.187342\n",
      "3    0.520005  0.519051  0.865163  0.505853\n",
      "4    0.347212  0.240804  0.006705  0.795129\n",
      "..        ...       ...       ...       ...\n",
      "295  0.536607  0.422304  0.774033  0.789704\n",
      "296  0.388263  0.821250  0.199074  0.488542\n",
      "297  0.503948  0.151826  0.142850  0.380553\n",
      "298  0.296732  0.028162  0.207288  0.184905\n",
      "299  0.611377  0.811757  0.690619  0.677967\n",
      "\n",
      "[300 rows x 4 columns]\n"
     ]
    }
   ],
   "source": [
    "print(newdf1.sort_index(axis=0))"
   ]
  },
  {
   "cell_type": "code",
   "execution_count": 16,
   "metadata": {},
   "outputs": [
    {
     "name": "stdout",
     "output_type": "stream",
     "text": [
      "          A             B         C         D\n",
      "0    Shakil  64661.000000  0.459204  0.010794\n",
      "1  0.303237      0.401338  0.023158  0.970546\n",
      "2  0.914448      0.461241  0.775111  0.187342\n",
      "3  0.520005      0.519051  0.865163  0.505853\n",
      "4  0.347212      0.240804  0.006705  0.795129\n"
     ]
    }
   ],
   "source": [
    "newdf1.columns = list(\"ABCD\")\n",
    "newdf1.loc[0,'B'] = 64661\n",
    "print(newdf1.head())"
   ]
  },
  {
   "cell_type": "code",
   "execution_count": 17,
   "metadata": {},
   "outputs": [
    {
     "name": "stdout",
     "output_type": "stream",
     "text": [
      "            A             B         C\n",
      "0      Shakil  64661.000000  0.459204\n",
      "1    0.303237      0.401338  0.023158\n",
      "2    0.914448      0.461241  0.775111\n",
      "3    0.520005      0.519051  0.865163\n",
      "4    0.347212      0.240804  0.006705\n",
      "..        ...           ...       ...\n",
      "295  0.536607      0.422304  0.774033\n",
      "296  0.388263      0.821250  0.199074\n",
      "297  0.503948      0.151826  0.142850\n",
      "298  0.296732      0.028162  0.207288\n",
      "299  0.611377      0.811757  0.690619\n",
      "\n",
      "[300 rows x 3 columns]\n"
     ]
    }
   ],
   "source": [
    "print(newdf1.drop('D', axis=1))"
   ]
  },
  {
   "cell_type": "code",
   "execution_count": 18,
   "metadata": {},
   "outputs": [
    {
     "name": "stdout",
     "output_type": "stream",
     "text": [
      "\n",
      "Show the specific row and  columns:\n",
      "           C         A\n",
      "1  0.023158  0.303237\n",
      "2  0.775111  0.914448\n",
      "3  0.865163  0.520005\n",
      "7  0.107002   0.11495\n",
      "\n",
      "show the specific row and  all columns:\n",
      "            A         B         C         D\n",
      "1   0.303237  0.401338  0.023158  0.970546\n",
      "25  0.001299  0.490342  0.612636  0.754132\n",
      "31  0.955608  0.167984  0.125719  0.620501\n",
      "75  0.282659  0.874272  0.768441  0.459657\n",
      "\n",
      "Specific Value wise filter the dataframe:\n",
      "         A        B         C         D\n",
      "0  Shakil  64661.0  0.459204  0.010794\n"
     ]
    }
   ],
   "source": [
    "print(\"\\nShow the specific row and  columns:\\n\",newdf1.loc[[1,2,3,7],['C','A']])\n",
    "print(\"\\nshow the specific row and  all columns:\\n\",newdf1.loc[[1,25,31,75],:])\n",
    "print(\"\\nSpecific Value wise filter the dataframe:\\n\",newdf1.loc[(newdf1['A']==\"Shakil\")])\n"
   ]
  },
  {
   "cell_type": "code",
   "execution_count": 19,
   "metadata": {},
   "outputs": [
    {
     "name": "stdout",
     "output_type": "stream",
     "text": [
      "          A             B         C         D\n",
      "0    Shakil  64661.000000  0.459204  0.010794\n",
      "2  0.914448      0.461241  0.775111  0.187342\n",
      "3  0.520005      0.519051  0.865163  0.505853\n",
      "5    0.4456      0.550464  0.426782  0.423058\n",
      "6  0.792505      0.185904  0.513030  0.229239\n"
     ]
    }
   ],
   "source": [
    "newdf1.drop([1,4,7,9], axis=0,inplace=True)\n",
    "print(newdf1.head(5))"
   ]
  },
  {
   "cell_type": "code",
   "execution_count": 20,
   "metadata": {},
   "outputs": [
    {
     "name": "stdout",
     "output_type": "stream",
     "text": [
      "            A             B         C         D\n",
      "0      Shakil  64661.000000  0.459204  0.010794\n",
      "1    0.914448      0.461241  0.775111  0.187342\n",
      "2    0.520005      0.519051  0.865163  0.505853\n",
      "3      0.4456      0.550464  0.426782  0.423058\n",
      "4    0.792505      0.185904  0.513030  0.229239\n",
      "..        ...           ...       ...       ...\n",
      "291  0.536607      0.422304  0.774033  0.789704\n",
      "292  0.388263      0.821250  0.199074  0.488542\n",
      "293  0.503948      0.151826  0.142850  0.380553\n",
      "294  0.296732      0.028162  0.207288  0.184905\n",
      "295  0.611377      0.811757  0.690619  0.677967\n",
      "\n",
      "[296 rows x 4 columns]\n",
      "0      False\n",
      "2      False\n",
      "3      False\n",
      "5      False\n",
      "6      False\n",
      "       ...  \n",
      "295    False\n",
      "296    False\n",
      "297    False\n",
      "298    False\n",
      "299    False\n",
      "Name: B, Length: 296, dtype: bool\n"
     ]
    }
   ],
   "source": [
    "print(newdf1.reset_index(drop=True))\n",
    "print(newdf1['B'].isnull())"
   ]
  },
  {
   "cell_type": "code",
   "execution_count": 21,
   "metadata": {},
   "outputs": [],
   "source": [
    "newdf2 = pd.read_csv('dataframe.csv')"
   ]
  },
  {
   "cell_type": "code",
   "execution_count": 22,
   "metadata": {},
   "outputs": [
    {
     "name": "stdout",
     "output_type": "stream",
     "text": [
      "   Roll NO     Name  Dept. Marks\n",
      "0     1545    Rahim    CSE    55\n",
      "1     7545    Karim    NaN    45\n",
      "2     1545    Jahid    EEE    78\n",
      "3     6512      NaN  Civil    95\n",
      "4     1456     Rafi    IPH   Nan\n",
      "5      326  Shaidul    EEE    12\n",
      "6     1545    Rahim    CSE    55\n"
     ]
    }
   ],
   "source": [
    "print(newdf2)"
   ]
  },
  {
   "cell_type": "code",
   "execution_count": 23,
   "metadata": {},
   "outputs": [
    {
     "name": "stdout",
     "output_type": "stream",
     "text": [
      "Drop the null value:\n",
      "    Roll NO     Name Dept. Marks\n",
      "0     1545    Rahim   CSE    55\n",
      "2     1545    Jahid   EEE    78\n",
      "4     1456     Rafi   IPH   Nan\n",
      "5      326  Shaidul   EEE    12\n",
      "6     1545    Rahim   CSE    55\n",
      "\n",
      "Drop the duplicates value & keep single one:\n",
      "    Roll NO     Name  Dept. Marks\n",
      "0     1545    Rahim    CSE    55\n",
      "1     7545    Karim    NaN    45\n",
      "3     6512      NaN  Civil    95\n",
      "4     1456     Rafi    IPH   Nan\n",
      "5      326  Shaidul    EEE    12\n",
      "\n",
      "Drop the duplicates value & keep first duplicates value:\n",
      "    Roll NO     Name  Dept. Marks\n",
      "0     1545    Rahim    CSE    55\n",
      "1     7545    Karim    NaN    45\n",
      "3     6512      NaN  Civil    95\n",
      "4     1456     Rafi    IPH   Nan\n",
      "5      326  Shaidul    EEE    12\n",
      "\n",
      "Drop the duplicates value & keep last duplicates value:\n",
      "    Roll NO     Name  Dept. Marks\n",
      "1     7545    Karim    NaN    45\n",
      "3     6512      NaN  Civil    95\n",
      "4     1456     Rafi    IPH   Nan\n",
      "5      326  Shaidul    EEE    12\n",
      "6     1545    Rahim    CSE    55\n",
      "\n",
      "Drop the duplicates all values:\n",
      "    Roll NO     Name  Dept. Marks\n",
      "1     7545    Karim    NaN    45\n",
      "3     6512      NaN  Civil    95\n",
      "4     1456     Rafi    IPH   Nan\n",
      "5      326  Shaidul    EEE    12\n"
     ]
    }
   ],
   "source": [
    "print(\"Drop the null value:\\n\",newdf2.dropna())\n",
    "print(\"\\nDrop the duplicates value & keep single one:\\n\",newdf2.drop_duplicates(subset=['Roll NO']))\n",
    "print(\"\\nDrop the duplicates value & keep first duplicates value:\\n\",newdf2.drop_duplicates(subset=['Roll NO'],keep='first'))\n",
    "print(\"\\nDrop the duplicates value & keep last duplicates value:\\n\",newdf2.drop_duplicates(subset=['Roll NO'],keep='last'))\n",
    "print(\"\\nDrop the duplicates all values:\\n\",newdf2.drop_duplicates(subset=['Roll NO'],keep=False))"
   ]
  },
  {
   "cell_type": "code",
   "execution_count": 24,
   "metadata": {},
   "outputs": [
    {
     "name": "stdout",
     "output_type": "stream",
     "text": [
      "(296, 4)\n"
     ]
    }
   ],
   "source": [
    "print(newdf1.shape)"
   ]
  },
  {
   "cell_type": "code",
   "execution_count": 25,
   "metadata": {},
   "outputs": [
    {
     "name": "stdout",
     "output_type": "stream",
     "text": [
      "   Roll NO     Name  Dept. Marks\n",
      "0     1545    Rahim    CSE    55\n",
      "1     7545    Karim    NaN    45\n",
      "2     1545    Jahid    EEE    78\n",
      "3     6512      NaN  Civil    95\n",
      "4     1456     Rafi    IPH   Nan\n",
      "5      326  Shaidul    EEE    12\n",
      "6     1545    Rahim    CSE    55\n"
     ]
    }
   ],
   "source": [
    "print(newdf2)"
   ]
  },
  {
   "cell_type": "code",
   "execution_count": 26,
   "metadata": {},
   "outputs": [
    {
     "name": "stdout",
     "output_type": "stream",
     "text": [
      "<class 'pandas.core.frame.DataFrame'>\n",
      "RangeIndex: 7 entries, 0 to 6\n",
      "Data columns (total 4 columns):\n",
      " #   Column   Non-Null Count  Dtype \n",
      "---  ------   --------------  ----- \n",
      " 0   Roll NO  7 non-null      int64 \n",
      " 1   Name     6 non-null      object\n",
      " 2   Dept.    6 non-null      object\n",
      " 3   Marks    7 non-null      object\n",
      "dtypes: int64(1), object(3)\n",
      "memory usage: 352.0+ bytes\n",
      "Data Frame Info:\n",
      " None\n"
     ]
    }
   ],
   "source": [
    "print(\"Data Frame Info:\\n\",newdf2.info())"
   ]
  },
  {
   "cell_type": "code",
   "execution_count": 27,
   "metadata": {},
   "outputs": [
    {
     "name": "stdout",
     "output_type": "stream",
     "text": [
      "   Roll NO   Name  Dept.  Marks\n",
      "0     True   True   True   True\n",
      "1     True   True  False   True\n",
      "2     True   True   True   True\n",
      "3     True  False   True   True\n",
      "4     True   True   True   True\n",
      "5     True   True   True   True\n",
      "6     True   True   True   True\n"
     ]
    }
   ],
   "source": [
    "print(newdf2.notnull())"
   ]
  },
  {
   "cell_type": "code",
   "execution_count": 43,
   "metadata": {},
   "outputs": [
    {
     "name": "stdout",
     "output_type": "stream",
     "text": [
      "Institute data frame:\n",
      "      ID No Std Name   Dept\n",
      "0      451    Rohim    cse\n",
      "1      452    korim    eee\n",
      "2      845    jahid    cse\n",
      "3     2665   khalid    iph\n",
      "4     9532   kuddus  civil\n",
      "5  6349456   shamim    eee\n"
     ]
    }
   ],
   "source": [
    "newdf3 = pd.read_excel('instututesdf.xlsx')\n",
    "print(\"Institute data frame:\\n\", newdf3)"
   ]
  },
  {
   "cell_type": "code",
   "execution_count": 45,
   "metadata": {},
   "outputs": [
    {
     "name": "stdout",
     "output_type": "stream",
     "text": [
      "Institute data frame:\n",
      "    ID No Tec Name         Desig\n",
      "0    895   Sajjad      lecturer\n",
      "1   6463    nokib  sr. lecturer\n",
      "2   6894    jakir  head teacher\n",
      "3    923    dulal  jr. lecturer\n",
      "4    445    kalam  jr. lecturer\n",
      "5   9823    feroz      lecturer\n"
     ]
    }
   ],
   "source": [
    "newdf3 = pd.read_excel('instututesdf.xlsx', sheet_name='teclist')\n",
    "print(\"Institute data frame:\\n\", newdf3)"
   ]
  },
  {
   "cell_type": "code",
   "execution_count": 48,
   "metadata": {},
   "outputs": [
    {
     "name": "stdout",
     "output_type": "stream",
     "text": [
      "   ID No Tec Name         Desig\n",
      "0     50   Sajjad      lecturer\n",
      "1   6463    nokib  sr. lecturer\n",
      "2   6894    jakir  head teacher\n",
      "3    923    dulal  jr. lecturer\n",
      "4    445    kalam  jr. lecturer\n",
      "5   9823    feroz      lecturer\n"
     ]
    }
   ],
   "source": [
    "newdf3.iloc[0,0] = 50\n",
    "print(newdf3)\n"
   ]
  },
  {
   "cell_type": "code",
   "execution_count": null,
   "metadata": {},
   "outputs": [],
   "source": []
  }
 ],
 "metadata": {
  "kernelspec": {
   "display_name": "Python 3",
   "language": "python",
   "name": "python3"
  },
  "language_info": {
   "codemirror_mode": {
    "name": "ipython",
    "version": 3
   },
   "file_extension": ".py",
   "mimetype": "text/x-python",
   "name": "python",
   "nbconvert_exporter": "python",
   "pygments_lexer": "ipython3",
   "version": "3.10.4"
  },
  "orig_nbformat": 4,
  "vscode": {
   "interpreter": {
    "hash": "3ad933181bd8a04b432d3370b9dc3b0662ad032c4dfaa4e4f1596c548f763858"
   }
  }
 },
 "nbformat": 4,
 "nbformat_minor": 2
}
