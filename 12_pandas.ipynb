{
 "cells": [
  {
   "cell_type": "code",
   "execution_count": 1,
   "metadata": {},
   "outputs": [],
   "source": [
    "import numpy as np\n",
    "import pandas as pd"
   ]
  },
  {
   "cell_type": "code",
   "execution_count": 2,
   "metadata": {},
   "outputs": [],
   "source": [
    "student_dict = {\n",
    "    \"Name\":['Shakil','Ridoy','Shaiful','Banna'],\n",
    "    \"ID\":[15,11,14,13],\n",
    "    \"Address\":['Hemayetpur','Kollanpur','Savar','Mirpur'],\n",
    "    \"Age\":[23,24,26,25]\n",
    "}"
   ]
  },
  {
   "cell_type": "code",
   "execution_count": 3,
   "metadata": {},
   "outputs": [],
   "source": [
    "students_tab = pd.DataFrame(student_dict)"
   ]
  },
  {
   "cell_type": "code",
   "execution_count": 4,
   "metadata": {},
   "outputs": [
    {
     "name": "stdout",
     "output_type": "stream",
     "text": [
      "Students List:\n",
      "       Name  ID     Address  Age\n",
      "0   Shakil  15  Hemayetpur   23\n",
      "1    Ridoy  11   Kollanpur   24\n",
      "2  Shaiful  14       Savar   26\n",
      "3    Banna  13      Mirpur   25\n"
     ]
    }
   ],
   "source": [
    "print(\"Students List:\\n\",students_tab)"
   ]
  },
  {
   "cell_type": "code",
   "execution_count": 5,
   "metadata": {},
   "outputs": [
    {
     "name": "stdout",
     "output_type": "stream",
     "text": [
      "Show the first 2 rows:\n",
      "      Name  ID     Address  Age\n",
      "0  Shakil  15  Hemayetpur   23\n",
      "1   Ridoy  11   Kollanpur   24\n",
      "\n",
      "Show the last 2 rows:\n",
      "       Name  ID Address  Age\n",
      "2  Shaiful  14   Savar   26\n",
      "3    Banna  13  Mirpur   25\n"
     ]
    }
   ],
   "source": [
    "students_tab.to_csv('list.csv')\n",
    "students_tab.to_csv('list_without_index.csv', index=False)\n",
    "print(\"Show the first 2 rows:\\n\",students_tab.head(2))\n",
    "print(\"\\nShow the last 2 rows:\\n\",students_tab.tail(2))\n"
   ]
  },
  {
   "cell_type": "code",
   "execution_count": 6,
   "metadata": {},
   "outputs": [
    {
     "name": "stdout",
     "output_type": "stream",
     "text": [
      "\n",
      "Describe the data frame:\n",
      "               ID        Age\n",
      "count   4.000000   4.000000\n",
      "mean   13.250000  24.500000\n",
      "std     1.707825   1.290994\n",
      "min    11.000000  23.000000\n",
      "25%    12.500000  23.750000\n",
      "50%    13.500000  24.500000\n",
      "75%    14.250000  25.250000\n",
      "max    15.000000  26.000000\n"
     ]
    }
   ],
   "source": [
    "print(\"\\nDescribe the data frame:\\n\",students_tab.describe())"
   ]
  },
  {
   "cell_type": "code",
   "execution_count": 7,
   "metadata": {},
   "outputs": [
    {
     "name": "stdout",
     "output_type": "stream",
     "text": [
      "\n",
      "Students List 2:\n",
      "    Roll NO     Name  Dept.  Marks\n",
      "0     1545    Rahim    CSE     55\n",
      "1     7545    Karim    CSE     45\n",
      "2     1545    Jahid    EEE     78\n",
      "3     6512  Rafique  Civil     95\n",
      "4     1456     Rafi    IPH     25\n",
      "5      326  Shaidul    EEE     12\n",
      "\n",
      "Print the student list 2 Marks:\n",
      " 0    1545\n",
      "1    7545\n",
      "2    1545\n",
      "3    6512\n",
      "4    1456\n",
      "5     326\n",
      "Name: Roll NO, dtype: int64\n",
      "\n",
      "Print 1 index student roll: 7545\n"
     ]
    }
   ],
   "source": [
    "studentList2 = pd.read_csv('StudentList.csv')\n",
    "print(\"\\nStudents List 2:\\n\",studentList2)\n",
    "print(\"\\nPrint the student list 2 Marks:\\n\",studentList2['Roll NO'])\n",
    "print(\"\\nPrint 1 index student roll:\",studentList2['Roll NO'][1]) \n"
   ]
  },
  {
   "cell_type": "code",
   "execution_count": 8,
   "metadata": {},
   "outputs": [
    {
     "name": "stdout",
     "output_type": "stream",
     "text": [
      "Random Data Set generate:\n",
      "             0         1         2         3\n",
      "0    0.363283  0.231898  0.589890  0.364558\n",
      "1    0.830580  0.260985  0.198128  0.346925\n",
      "2    0.315778  0.381502  0.013002  0.710617\n",
      "3    0.328822  0.187936  0.985167  0.737808\n",
      "4    0.994332  0.867555  0.544430  0.453478\n",
      "..        ...       ...       ...       ...\n",
      "295  0.108229  0.543442  0.235588  0.284709\n",
      "296  0.053544  0.857218  0.908605  0.038911\n",
      "297  0.512623  0.495594  0.740702  0.383566\n",
      "298  0.137361  0.995117  0.369340  0.633681\n",
      "299  0.711007  0.500751  0.569513  0.966396\n",
      "\n",
      "[300 rows x 4 columns]\n",
      "\n",
      "Data Frame Types:\n",
      " 0    float64\n",
      "1    float64\n",
      "2    float64\n",
      "3    float64\n",
      "dtype: object\n",
      "\n",
      "Data Frame Head:\n",
      "           0         1         2         3\n",
      "0  0.363283  0.231898  0.589890  0.364558\n",
      "1  0.830580  0.260985  0.198128  0.346925\n",
      "2  0.315778  0.381502  0.013002  0.710617\n",
      "3  0.328822  0.187936  0.985167  0.737808\n"
     ]
    }
   ],
   "source": [
    "newdf1 = pd.DataFrame(np.random.rand(300,4), index=np.arange(300))\n",
    "print(\"Random Data Set generate:\\n\", newdf1)\n",
    "print(\"\\nData Frame Types:\\n\",newdf1.dtypes)\n",
    "print(\"\\nData Frame Head:\\n\",newdf1.head(4))"
   ]
  },
  {
   "cell_type": "code",
   "execution_count": 9,
   "metadata": {},
   "outputs": [
    {
     "name": "stdout",
     "output_type": "stream",
     "text": [
      "\n",
      "Data Frame Tail:\n",
      "             0         1         2         3\n",
      "295  0.108229  0.543442  0.235588  0.284709\n",
      "296  0.053544  0.857218  0.908605  0.038911\n",
      "297  0.512623  0.495594  0.740702  0.383566\n",
      "298  0.137361  0.995117  0.369340  0.633681\n",
      "299  0.711007  0.500751  0.569513  0.966396\n"
     ]
    }
   ],
   "source": [
    "print(\"\\nData Frame Tail:\\n\",newdf1.tail())"
   ]
  },
  {
   "cell_type": "code",
   "execution_count": 10,
   "metadata": {},
   "outputs": [
    {
     "name": "stdout",
     "output_type": "stream",
     "text": [
      "\n",
      "Data Frame Describe:\n",
      "                 0           1           2           3\n",
      "count  300.000000  300.000000  300.000000  300.000000\n",
      "mean     0.481716    0.516389    0.496728    0.510726\n",
      "std      0.279762    0.304132    0.290845    0.296085\n",
      "min      0.000300    0.004515    0.000847    0.001948\n",
      "25%      0.236293    0.228044    0.234355    0.262628\n",
      "50%      0.480974    0.521046    0.483972    0.485455\n",
      "75%      0.707862    0.789621    0.750523    0.788166\n",
      "max      0.997154    0.998414    0.995378    0.999217\n"
     ]
    }
   ],
   "source": [
    "print(\"\\nData Frame Describe:\\n\",newdf1.describe())"
   ]
  },
  {
   "cell_type": "code",
   "execution_count": 11,
   "metadata": {},
   "outputs": [
    {
     "name": "stdout",
     "output_type": "stream",
     "text": [
      "          0         1         2         3\n",
      "0    Shakil  0.231898  0.589890  0.364558\n",
      "1   0.83058  0.260985  0.198128  0.346925\n",
      "2  0.315778  0.381502  0.013002  0.710617\n",
      "3  0.328822  0.187936  0.985167  0.737808\n",
      "4  0.994332  0.867555  0.544430  0.453478\n"
     ]
    }
   ],
   "source": [
    "newdf1[0][0] = 'Shakil'\n",
    "print(newdf1.head())"
   ]
  },
  {
   "cell_type": "code",
   "execution_count": 12,
   "metadata": {},
   "outputs": [
    {
     "name": "stdout",
     "output_type": "stream",
     "text": [
      "0     object\n",
      "1    float64\n",
      "2    float64\n",
      "3    float64\n",
      "dtype: object\n"
     ]
    }
   ],
   "source": [
    "print(newdf1.dtypes)"
   ]
  },
  {
   "cell_type": "code",
   "execution_count": 13,
   "metadata": {},
   "outputs": [
    {
     "name": "stdout",
     "output_type": "stream",
     "text": [
      "RangeIndex(start=0, stop=4, step=1)\n"
     ]
    }
   ],
   "source": [
    "print(newdf1.columns)"
   ]
  },
  {
   "cell_type": "code",
   "execution_count": 14,
   "metadata": {},
   "outputs": [
    {
     "name": "stdout",
     "output_type": "stream",
     "text": [
      "            0         1         2         3\n",
      "299  0.711007  0.500751  0.569513  0.966396\n",
      "298  0.137361  0.995117  0.369340  0.633681\n",
      "297  0.512623  0.495594  0.740702  0.383566\n",
      "296  0.053544  0.857218  0.908605  0.038911\n",
      "295  0.108229  0.543442  0.235588  0.284709\n",
      "..        ...       ...       ...       ...\n",
      "4    0.994332  0.867555  0.544430  0.453478\n",
      "3    0.328822  0.187936  0.985167  0.737808\n",
      "2    0.315778  0.381502  0.013002  0.710617\n",
      "1     0.83058  0.260985  0.198128  0.346925\n",
      "0      Shakil  0.231898  0.589890  0.364558\n",
      "\n",
      "[300 rows x 4 columns]\n"
     ]
    }
   ],
   "source": [
    "print(newdf1.sort_index(axis=0, ascending=False))"
   ]
  },
  {
   "cell_type": "code",
   "execution_count": 15,
   "metadata": {},
   "outputs": [
    {
     "name": "stdout",
     "output_type": "stream",
     "text": [
      "            0         1         2         3\n",
      "0      Shakil  0.231898  0.589890  0.364558\n",
      "1     0.83058  0.260985  0.198128  0.346925\n",
      "2    0.315778  0.381502  0.013002  0.710617\n",
      "3    0.328822  0.187936  0.985167  0.737808\n",
      "4    0.994332  0.867555  0.544430  0.453478\n",
      "..        ...       ...       ...       ...\n",
      "295  0.108229  0.543442  0.235588  0.284709\n",
      "296  0.053544  0.857218  0.908605  0.038911\n",
      "297  0.512623  0.495594  0.740702  0.383566\n",
      "298  0.137361  0.995117  0.369340  0.633681\n",
      "299  0.711007  0.500751  0.569513  0.966396\n",
      "\n",
      "[300 rows x 4 columns]\n"
     ]
    }
   ],
   "source": [
    "print(newdf1.sort_index(axis=0))"
   ]
  },
  {
   "cell_type": "code",
   "execution_count": 16,
   "metadata": {},
   "outputs": [
    {
     "name": "stdout",
     "output_type": "stream",
     "text": [
      "          A             B         C         D\n",
      "0    Shakil  64661.000000  0.589890  0.364558\n",
      "1   0.83058      0.260985  0.198128  0.346925\n",
      "2  0.315778      0.381502  0.013002  0.710617\n",
      "3  0.328822      0.187936  0.985167  0.737808\n",
      "4  0.994332      0.867555  0.544430  0.453478\n"
     ]
    }
   ],
   "source": [
    "newdf1.columns = list(\"ABCD\")\n",
    "newdf1.loc[0,'B'] = 64661\n",
    "print(newdf1.head())"
   ]
  },
  {
   "cell_type": "code",
   "execution_count": 17,
   "metadata": {},
   "outputs": [
    {
     "name": "stdout",
     "output_type": "stream",
     "text": [
      "            A             B         C\n",
      "0      Shakil  64661.000000  0.589890\n",
      "1     0.83058      0.260985  0.198128\n",
      "2    0.315778      0.381502  0.013002\n",
      "3    0.328822      0.187936  0.985167\n",
      "4    0.994332      0.867555  0.544430\n",
      "..        ...           ...       ...\n",
      "295  0.108229      0.543442  0.235588\n",
      "296  0.053544      0.857218  0.908605\n",
      "297  0.512623      0.495594  0.740702\n",
      "298  0.137361      0.995117  0.369340\n",
      "299  0.711007      0.500751  0.569513\n",
      "\n",
      "[300 rows x 3 columns]\n"
     ]
    }
   ],
   "source": [
    "print(newdf1.drop('D', axis=1))"
   ]
  },
  {
   "cell_type": "code",
   "execution_count": 18,
   "metadata": {},
   "outputs": [
    {
     "name": "stdout",
     "output_type": "stream",
     "text": [
      "\n",
      "Show the specific row and  columns:\n",
      "           C         A\n",
      "1  0.198128   0.83058\n",
      "2  0.013002  0.315778\n",
      "3  0.985167  0.328822\n",
      "7  0.159816  0.572822\n",
      "\n",
      "show the specific row and  all columns:\n",
      "            A         B         C         D\n",
      "1    0.83058  0.260985  0.198128  0.346925\n",
      "25  0.740722  0.208744  0.139603  0.267572\n",
      "31  0.692763  0.102764  0.561444  0.436901\n",
      "75  0.557905  0.669263  0.185907  0.533049\n",
      "\n",
      "Specific Value wise filter the dataframe:\n",
      "         A        B        C         D\n",
      "0  Shakil  64661.0  0.58989  0.364558\n"
     ]
    }
   ],
   "source": [
    "print(\"\\nShow the specific row and  columns:\\n\",newdf1.loc[[1,2,3,7],['C','A']])\n",
    "print(\"\\nshow the specific row and  all columns:\\n\",newdf1.loc[[1,25,31,75],:])\n",
    "print(\"\\nSpecific Value wise filter the dataframe:\\n\",newdf1.loc[(newdf1['A']==\"Shakil\")])\n"
   ]
  },
  {
   "cell_type": "code",
   "execution_count": 19,
   "metadata": {},
   "outputs": [
    {
     "name": "stdout",
     "output_type": "stream",
     "text": [
      "          A             B         C         D\n",
      "0    Shakil  64661.000000  0.589890  0.364558\n",
      "2  0.315778      0.381502  0.013002  0.710617\n",
      "3  0.328822      0.187936  0.985167  0.737808\n",
      "5  0.382865      0.533653  0.433762  0.725455\n",
      "6  0.987437      0.502460  0.603704  0.307180\n"
     ]
    }
   ],
   "source": [
    "newdf1.drop([1,4,7,9], axis=0,inplace=True)\n",
    "print(newdf1.head(5))"
   ]
  },
  {
   "cell_type": "code",
   "execution_count": 20,
   "metadata": {},
   "outputs": [
    {
     "name": "stdout",
     "output_type": "stream",
     "text": [
      "            A             B         C         D\n",
      "0      Shakil  64661.000000  0.589890  0.364558\n",
      "1    0.315778      0.381502  0.013002  0.710617\n",
      "2    0.328822      0.187936  0.985167  0.737808\n",
      "3    0.382865      0.533653  0.433762  0.725455\n",
      "4    0.987437      0.502460  0.603704  0.307180\n",
      "..        ...           ...       ...       ...\n",
      "291  0.108229      0.543442  0.235588  0.284709\n",
      "292  0.053544      0.857218  0.908605  0.038911\n",
      "293  0.512623      0.495594  0.740702  0.383566\n",
      "294  0.137361      0.995117  0.369340  0.633681\n",
      "295  0.711007      0.500751  0.569513  0.966396\n",
      "\n",
      "[296 rows x 4 columns]\n",
      "0      False\n",
      "2      False\n",
      "3      False\n",
      "5      False\n",
      "6      False\n",
      "       ...  \n",
      "295    False\n",
      "296    False\n",
      "297    False\n",
      "298    False\n",
      "299    False\n",
      "Name: B, Length: 296, dtype: bool\n"
     ]
    }
   ],
   "source": [
    "print(newdf1.reset_index(drop=True))\n",
    "print(newdf1['B'].isnull())"
   ]
  },
  {
   "cell_type": "code",
   "execution_count": 21,
   "metadata": {},
   "outputs": [],
   "source": [
    "newdf2 = pd.read_csv('dataframe.csv')"
   ]
  },
  {
   "cell_type": "code",
   "execution_count": 22,
   "metadata": {},
   "outputs": [
    {
     "name": "stdout",
     "output_type": "stream",
     "text": [
      "   Roll NO     Name  Dept. Marks\n",
      "0     1545    Rahim    CSE    55\n",
      "1     7545    Karim    NaN    45\n",
      "2     1545    Jahid    EEE    78\n",
      "3     6512      NaN  Civil    95\n",
      "4     1456     Rafi    IPH   Nan\n",
      "5      326  Shaidul    EEE    12\n",
      "6     1545    Rahim    CSE    55\n"
     ]
    }
   ],
   "source": [
    "print(newdf2)"
   ]
  },
  {
   "cell_type": "code",
   "execution_count": 23,
   "metadata": {},
   "outputs": [
    {
     "name": "stdout",
     "output_type": "stream",
     "text": [
      "Drop the null value:\n",
      "    Roll NO     Name Dept. Marks\n",
      "0     1545    Rahim   CSE    55\n",
      "2     1545    Jahid   EEE    78\n",
      "4     1456     Rafi   IPH   Nan\n",
      "5      326  Shaidul   EEE    12\n",
      "6     1545    Rahim   CSE    55\n",
      "\n",
      "Drop the duplicates value & keep single one:\n",
      "    Roll NO     Name  Dept. Marks\n",
      "0     1545    Rahim    CSE    55\n",
      "1     7545    Karim    NaN    45\n",
      "3     6512      NaN  Civil    95\n",
      "4     1456     Rafi    IPH   Nan\n",
      "5      326  Shaidul    EEE    12\n",
      "\n",
      "Drop the duplicates value & keep first duplicates value:\n",
      "    Roll NO     Name  Dept. Marks\n",
      "0     1545    Rahim    CSE    55\n",
      "1     7545    Karim    NaN    45\n",
      "3     6512      NaN  Civil    95\n",
      "4     1456     Rafi    IPH   Nan\n",
      "5      326  Shaidul    EEE    12\n",
      "\n",
      "Drop the duplicates value & keep last duplicates value:\n",
      "    Roll NO     Name  Dept. Marks\n",
      "1     7545    Karim    NaN    45\n",
      "3     6512      NaN  Civil    95\n",
      "4     1456     Rafi    IPH   Nan\n",
      "5      326  Shaidul    EEE    12\n",
      "6     1545    Rahim    CSE    55\n",
      "\n",
      "Drop the duplicates all values:\n",
      "    Roll NO     Name  Dept. Marks\n",
      "1     7545    Karim    NaN    45\n",
      "3     6512      NaN  Civil    95\n",
      "4     1456     Rafi    IPH   Nan\n",
      "5      326  Shaidul    EEE    12\n"
     ]
    }
   ],
   "source": [
    "print(\"Drop the null value:\\n\",newdf2.dropna())\n",
    "print(\"\\nDrop the duplicates value & keep single one:\\n\",newdf2.drop_duplicates(subset=['Roll NO']))\n",
    "print(\"\\nDrop the duplicates value & keep first duplicates value:\\n\",newdf2.drop_duplicates(subset=['Roll NO'],keep='first'))\n",
    "print(\"\\nDrop the duplicates value & keep last duplicates value:\\n\",newdf2.drop_duplicates(subset=['Roll NO'],keep='last'))\n",
    "print(\"\\nDrop the duplicates all values:\\n\",newdf2.drop_duplicates(subset=['Roll NO'],keep=False))"
   ]
  },
  {
   "cell_type": "code",
   "execution_count": 24,
   "metadata": {},
   "outputs": [
    {
     "name": "stdout",
     "output_type": "stream",
     "text": [
      "(296, 4)\n"
     ]
    }
   ],
   "source": [
    "print(newdf1.shape)"
   ]
  },
  {
   "cell_type": "code",
   "execution_count": 25,
   "metadata": {},
   "outputs": [
    {
     "name": "stdout",
     "output_type": "stream",
     "text": [
      "   Roll NO     Name  Dept. Marks\n",
      "0     1545    Rahim    CSE    55\n",
      "1     7545    Karim    NaN    45\n",
      "2     1545    Jahid    EEE    78\n",
      "3     6512      NaN  Civil    95\n",
      "4     1456     Rafi    IPH   Nan\n",
      "5      326  Shaidul    EEE    12\n",
      "6     1545    Rahim    CSE    55\n"
     ]
    }
   ],
   "source": [
    "print(newdf2)"
   ]
  },
  {
   "cell_type": "code",
   "execution_count": 26,
   "metadata": {},
   "outputs": [
    {
     "name": "stdout",
     "output_type": "stream",
     "text": [
      "<class 'pandas.core.frame.DataFrame'>\n",
      "RangeIndex: 7 entries, 0 to 6\n",
      "Data columns (total 4 columns):\n",
      " #   Column   Non-Null Count  Dtype \n",
      "---  ------   --------------  ----- \n",
      " 0   Roll NO  7 non-null      int64 \n",
      " 1   Name     6 non-null      object\n",
      " 2   Dept.    6 non-null      object\n",
      " 3   Marks    7 non-null      object\n",
      "dtypes: int64(1), object(3)\n",
      "memory usage: 352.0+ bytes\n",
      "Data Frame Info:\n",
      " None\n"
     ]
    }
   ],
   "source": [
    "print(\"Data Frame Info:\\n\",newdf2.info())"
   ]
  },
  {
   "cell_type": "code",
   "execution_count": 27,
   "metadata": {},
   "outputs": [
    {
     "name": "stdout",
     "output_type": "stream",
     "text": [
      "   Roll NO   Name  Dept.  Marks\n",
      "0     True   True   True   True\n",
      "1     True   True  False   True\n",
      "2     True   True   True   True\n",
      "3     True  False   True   True\n",
      "4     True   True   True   True\n",
      "5     True   True   True   True\n",
      "6     True   True   True   True\n"
     ]
    }
   ],
   "source": [
    "print(newdf2.notnull())"
   ]
  },
  {
   "cell_type": "code",
   "execution_count": 28,
   "metadata": {},
   "outputs": [
    {
     "name": "stdout",
     "output_type": "stream",
     "text": [
      "Institute data frame:\n",
      "      ID No Std Name   Dept\n",
      "0      451    Rohim    cse\n",
      "1      452    korim    eee\n",
      "2      845    jahid    cse\n",
      "3     2665   khalid    iph\n",
      "4     9532   kuddus  civil\n",
      "5  6349456   shamim    eee\n"
     ]
    }
   ],
   "source": [
    "newdf3 = pd.read_excel('instututesdf.xlsx')\n",
    "print(\"Institute data frame:\\n\", newdf3)"
   ]
  },
  {
   "cell_type": "code",
   "execution_count": 29,
   "metadata": {},
   "outputs": [
    {
     "name": "stdout",
     "output_type": "stream",
     "text": [
      "Institute data frame:\n",
      "    ID No Tec Name         Desig\n",
      "0    895   Sajjad      lecturer\n",
      "1   6463    nokib  sr. lecturer\n",
      "2   6894    jakir  head teacher\n",
      "3    923    dulal  jr. lecturer\n",
      "4    445    kalam  jr. lecturer\n",
      "5   9823    feroz      lecturer\n"
     ]
    }
   ],
   "source": [
    "newdf3 = pd.read_excel('instututesdf.xlsx', sheet_name='teclist')\n",
    "print(\"Institute data frame:\\n\", newdf3)"
   ]
  },
  {
   "cell_type": "code",
   "execution_count": 30,
   "metadata": {},
   "outputs": [
    {
     "name": "stdout",
     "output_type": "stream",
     "text": [
      "   ID No Tec Name         Desig\n",
      "0     50   Sajjad      lecturer\n",
      "1   6463    nokib  sr. lecturer\n",
      "2   6894    jakir  head teacher\n",
      "3    923    dulal  jr. lecturer\n",
      "4    445    kalam  jr. lecturer\n",
      "5   9823    feroz      lecturer\n"
     ]
    }
   ],
   "source": [
    "newdf3.iloc[0,0] = 50\n",
    "print(newdf3)\n"
   ]
  },
  {
   "cell_type": "code",
   "execution_count": null,
   "metadata": {},
   "outputs": [],
   "source": []
  }
 ],
 "metadata": {
  "kernelspec": {
   "display_name": "Python 3",
   "language": "python",
   "name": "python3"
  },
  "language_info": {
   "codemirror_mode": {
    "name": "ipython",
    "version": 3
   },
   "file_extension": ".py",
   "mimetype": "text/x-python",
   "name": "python",
   "nbconvert_exporter": "python",
   "pygments_lexer": "ipython3",
   "version": "3.10.4"
  },
  "orig_nbformat": 4,
  "vscode": {
   "interpreter": {
    "hash": "3ad933181bd8a04b432d3370b9dc3b0662ad032c4dfaa4e4f1596c548f763858"
   }
  }
 },
 "nbformat": 4,
 "nbformat_minor": 2
}
